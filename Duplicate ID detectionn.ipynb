{
 "cells": [
  {
   "cell_type": "code",
   "execution_count": null,
   "id": "ac3b98af-3db6-4e71-b8f5-03dd30533ce4",
   "metadata": {},
   "outputs": [],
   "source": [
    "import numpy as np\n",
    "\n",
    "arr = np.array([1, 2, 2, 3, 1, 4, 2])\n",
    "\n",
    "\n",
    "_, first_indices = np.unique(arr, return_index=True)\n",
    "\n",
    "\n",
    "is_duplicate = np.full(arr.shape, True, dtype=bool)\n",
    "\n",
    "\n",
    "\n",
    "print(is_duplicate)"
   ]
  },
  {
   "cell_type": "code",
   "execution_count": null,
   "id": "2016714f-049f-400e-a1b0-f5e8907ee90f",
   "metadata": {},
   "outputs": [],
   "source": []
  }
 ],
 "metadata": {
  "kernelspec": {
   "display_name": "Python 3 (ipykernel)",
   "language": "python",
   "name": "python3"
  },
  "language_info": {
   "codemirror_mode": {
    "name": "ipython",
    "version": 3
   },
   "file_extension": ".py",
   "mimetype": "text/x-python",
   "name": "python",
   "nbconvert_exporter": "python",
   "pygments_lexer": "ipython3",
   "version": "3.12.7"
  }
 },
 "nbformat": 4,
 "nbformat_minor": 5
}
