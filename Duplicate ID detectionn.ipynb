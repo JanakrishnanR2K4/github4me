import numpy as np

arr = np.array([1, 2, 2, 3, 1, 4, 2])


_, first_indices = np.unique(arr, return_index=True)


is_duplicate = np.full(arr.shape, True, dtype=bool)



print(is_duplicate)
