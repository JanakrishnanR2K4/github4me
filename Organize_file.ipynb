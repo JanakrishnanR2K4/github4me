{
 "cells": [
  {
   "cell_type": "code",
   "execution_count": 1,
   "id": "b283875f-018f-4012-a267-3505d95edf87",
   "metadata": {},
   "outputs": [],
   "source": [
    "import os\n",
    "import shutil\n",
    "def organize_files(folder_path):\n",
    "    for filename in os.listdir(folder_path):\n",
    "        file_path = os.path.join(folder_path, filename)\n",
    "        if os.path.isfile(file_path):\n",
    "            _, ext = os.path.splitext(filename)\n",
    "            ext = ext[1:].upper()  # Remove '.' and capitalize\n",
    "            if not ext:\n",
    "                continue\n",
    "            dest_folder = os.path.join(folder_path, ext)\n",
    "            os.makedirs(dest_folder, exist_ok=True)\n",
    "            shutil.move(file_path, os.path.join(dest_folder, filename))\n",
    "organize_files(r\"C:\\Users\\nanhs\\Downloads\")"
   ]
  },
  {
   "cell_type": "code",
   "execution_count": null,
   "id": "eecc450f-bc4d-418a-8af5-1ce8f302e620",
   "metadata": {},
   "outputs": [],
   "source": []
  }
 ],
 "metadata": {
  "kernelspec": {
   "display_name": "Python 3 (ipykernel)",
   "language": "python",
   "name": "python3"
  },
  "language_info": {
   "codemirror_mode": {
    "name": "ipython",
    "version": 3
   },
   "file_extension": ".py",
   "mimetype": "text/x-python",
   "name": "python",
   "nbconvert_exporter": "python",
   "pygments_lexer": "ipython3",
   "version": "3.12.7"
  }
 },
 "nbformat": 4,
 "nbformat_minor": 5
}
